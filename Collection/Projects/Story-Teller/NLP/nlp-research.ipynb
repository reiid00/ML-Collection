{
 "cells": [
  {
   "cell_type": "code",
   "execution_count": 1,
   "metadata": {},
   "outputs": [],
   "source": [
    "import torch\n",
    "from torch.utils.data import Dataset, DataLoader\n",
    "from transformers import GPT2Tokenizer, GPT2LMHeadModel, GPT2Config, TextDataset, DataCollatorForLanguageModeling\n",
    "from transformers import Trainer, TrainingArguments"
   ]
  },
  {
   "cell_type": "code",
   "execution_count": 27,
   "metadata": {},
   "outputs": [
    {
     "name": "stdout",
     "output_type": "stream",
     "text": [
      "Downloading 1/100: Romeo and Juliet by William Shakespeare (5164)\n"
     ]
    },
    {
     "ename": "error",
     "evalue": "unknown extension ?. at position 1",
     "output_type": "error",
     "traceback": [
      "\u001b[1;31m---------------------------------------------------------------------------\u001b[0m",
      "\u001b[1;31merror\u001b[0m                                     Traceback (most recent call last)",
      "Cell \u001b[1;32mIn[27], line 44\u001b[0m\n\u001b[0;32m     40\u001b[0m book_title \u001b[39m=\u001b[39m sanitize_title(book_link\u001b[39m.\u001b[39mtext\u001b[39m.\u001b[39mstrip())\n\u001b[0;32m     42\u001b[0m \u001b[39mprint\u001b[39m(\u001b[39mf\u001b[39m\u001b[39m'\u001b[39m\u001b[39mDownloading \u001b[39m\u001b[39m{\u001b[39;00midx\u001b[39m \u001b[39m\u001b[39m+\u001b[39m\u001b[39m \u001b[39m\u001b[39m1\u001b[39m\u001b[39m}\u001b[39;00m\u001b[39m/100: \u001b[39m\u001b[39m{\u001b[39;00mbook_title\u001b[39m}\u001b[39;00m\u001b[39m'\u001b[39m)\n\u001b[1;32m---> 44\u001b[0m txt_file_url \u001b[39m=\u001b[39m find_txt_file_url(book_page_url)\n\u001b[0;32m     46\u001b[0m \u001b[39mif\u001b[39;00m txt_file_url:\n\u001b[0;32m     47\u001b[0m     \u001b[39mtry\u001b[39;00m:\n\u001b[0;32m     48\u001b[0m         \u001b[39m# Fetch the book content\u001b[39;00m\n",
      "Cell \u001b[1;32mIn[27], line 31\u001b[0m, in \u001b[0;36mfind_txt_file_url\u001b[1;34m(book_page_url)\u001b[0m\n\u001b[0;32m     29\u001b[0m book_page_response \u001b[39m=\u001b[39m requests\u001b[39m.\u001b[39mget(book_page_url)\n\u001b[0;32m     30\u001b[0m book_page_soup \u001b[39m=\u001b[39m BeautifulSoup(book_page_response\u001b[39m.\u001b[39mtext, \u001b[39m'\u001b[39m\u001b[39mhtml.parser\u001b[39m\u001b[39m'\u001b[39m)\n\u001b[1;32m---> 31\u001b[0m file_links \u001b[39m=\u001b[39m book_page_soup\u001b[39m.\u001b[39mfind_all(\u001b[39m'\u001b[39m\u001b[39ma\u001b[39m\u001b[39m'\u001b[39m, href\u001b[39m=\u001b[39mre\u001b[39m.\u001b[39;49mcompile(\u001b[39mr\u001b[39;49m\u001b[39m'\u001b[39;49m\u001b[39m(?.txt\u001b[39;49m\u001b[39m'\u001b[39;49m))\n\u001b[0;32m     33\u001b[0m \u001b[39mif\u001b[39;00m file_links:\n\u001b[0;32m     34\u001b[0m     \u001b[39mreturn\u001b[39;00m \u001b[39mf\u001b[39m\u001b[39m'\u001b[39m\u001b[39m{\u001b[39;00mbook_page_url\u001b[39m}\u001b[39;00m\u001b[39m/\u001b[39m\u001b[39m{\u001b[39;00mfile_links[\u001b[39m0\u001b[39m][\u001b[39m\"\u001b[39m\u001b[39mhref\u001b[39m\u001b[39m\"\u001b[39m]\u001b[39m}\u001b[39;00m\u001b[39m'\u001b[39m\n",
      "File \u001b[1;32mc:\\Users\\reidp\\miniconda3\\envs\\torch_gpu\\lib\\re.py:251\u001b[0m, in \u001b[0;36mcompile\u001b[1;34m(pattern, flags)\u001b[0m\n\u001b[0;32m    249\u001b[0m \u001b[39mdef\u001b[39;00m \u001b[39mcompile\u001b[39m(pattern, flags\u001b[39m=\u001b[39m\u001b[39m0\u001b[39m):\n\u001b[0;32m    250\u001b[0m     \u001b[39m\"\u001b[39m\u001b[39mCompile a regular expression pattern, returning a Pattern object.\u001b[39m\u001b[39m\"\u001b[39m\n\u001b[1;32m--> 251\u001b[0m     \u001b[39mreturn\u001b[39;00m _compile(pattern, flags)\n",
      "File \u001b[1;32mc:\\Users\\reidp\\miniconda3\\envs\\torch_gpu\\lib\\re.py:303\u001b[0m, in \u001b[0;36m_compile\u001b[1;34m(pattern, flags)\u001b[0m\n\u001b[0;32m    301\u001b[0m \u001b[39mif\u001b[39;00m \u001b[39mnot\u001b[39;00m sre_compile\u001b[39m.\u001b[39misstring(pattern):\n\u001b[0;32m    302\u001b[0m     \u001b[39mraise\u001b[39;00m \u001b[39mTypeError\u001b[39;00m(\u001b[39m\"\u001b[39m\u001b[39mfirst argument must be string or compiled pattern\u001b[39m\u001b[39m\"\u001b[39m)\n\u001b[1;32m--> 303\u001b[0m p \u001b[39m=\u001b[39m sre_compile\u001b[39m.\u001b[39;49mcompile(pattern, flags)\n\u001b[0;32m    304\u001b[0m \u001b[39mif\u001b[39;00m \u001b[39mnot\u001b[39;00m (flags \u001b[39m&\u001b[39m DEBUG):\n\u001b[0;32m    305\u001b[0m     \u001b[39mif\u001b[39;00m \u001b[39mlen\u001b[39m(_cache) \u001b[39m>\u001b[39m\u001b[39m=\u001b[39m _MAXCACHE:\n\u001b[0;32m    306\u001b[0m         \u001b[39m# Drop the oldest item\u001b[39;00m\n",
      "File \u001b[1;32mc:\\Users\\reidp\\miniconda3\\envs\\torch_gpu\\lib\\sre_compile.py:788\u001b[0m, in \u001b[0;36mcompile\u001b[1;34m(p, flags)\u001b[0m\n\u001b[0;32m    786\u001b[0m \u001b[39mif\u001b[39;00m isstring(p):\n\u001b[0;32m    787\u001b[0m     pattern \u001b[39m=\u001b[39m p\n\u001b[1;32m--> 788\u001b[0m     p \u001b[39m=\u001b[39m sre_parse\u001b[39m.\u001b[39;49mparse(p, flags)\n\u001b[0;32m    789\u001b[0m \u001b[39melse\u001b[39;00m:\n\u001b[0;32m    790\u001b[0m     pattern \u001b[39m=\u001b[39m \u001b[39mNone\u001b[39;00m\n",
      "File \u001b[1;32mc:\\Users\\reidp\\miniconda3\\envs\\torch_gpu\\lib\\sre_parse.py:955\u001b[0m, in \u001b[0;36mparse\u001b[1;34m(str, flags, state)\u001b[0m\n\u001b[0;32m    952\u001b[0m state\u001b[39m.\u001b[39mstr \u001b[39m=\u001b[39m \u001b[39mstr\u001b[39m\n\u001b[0;32m    954\u001b[0m \u001b[39mtry\u001b[39;00m:\n\u001b[1;32m--> 955\u001b[0m     p \u001b[39m=\u001b[39m _parse_sub(source, state, flags \u001b[39m&\u001b[39;49m SRE_FLAG_VERBOSE, \u001b[39m0\u001b[39;49m)\n\u001b[0;32m    956\u001b[0m \u001b[39mexcept\u001b[39;00m Verbose:\n\u001b[0;32m    957\u001b[0m     \u001b[39m# the VERBOSE flag was switched on inside the pattern.  to be\u001b[39;00m\n\u001b[0;32m    958\u001b[0m     \u001b[39m# on the safe side, we'll parse the whole thing again...\u001b[39;00m\n\u001b[0;32m    959\u001b[0m     state \u001b[39m=\u001b[39m State()\n",
      "File \u001b[1;32mc:\\Users\\reidp\\miniconda3\\envs\\torch_gpu\\lib\\sre_parse.py:444\u001b[0m, in \u001b[0;36m_parse_sub\u001b[1;34m(source, state, verbose, nested)\u001b[0m\n\u001b[0;32m    442\u001b[0m start \u001b[39m=\u001b[39m source\u001b[39m.\u001b[39mtell()\n\u001b[0;32m    443\u001b[0m \u001b[39mwhile\u001b[39;00m \u001b[39mTrue\u001b[39;00m:\n\u001b[1;32m--> 444\u001b[0m     itemsappend(_parse(source, state, verbose, nested \u001b[39m+\u001b[39;49m \u001b[39m1\u001b[39;49m,\n\u001b[0;32m    445\u001b[0m                        \u001b[39mnot\u001b[39;49;00m nested \u001b[39mand\u001b[39;49;00m \u001b[39mnot\u001b[39;49;00m items))\n\u001b[0;32m    446\u001b[0m     \u001b[39mif\u001b[39;00m \u001b[39mnot\u001b[39;00m sourcematch(\u001b[39m\"\u001b[39m\u001b[39m|\u001b[39m\u001b[39m\"\u001b[39m):\n\u001b[0;32m    447\u001b[0m         \u001b[39mbreak\u001b[39;00m\n",
      "File \u001b[1;32mc:\\Users\\reidp\\miniconda3\\envs\\torch_gpu\\lib\\sre_parse.py:830\u001b[0m, in \u001b[0;36m_parse\u001b[1;34m(source, state, verbose, nested, first)\u001b[0m\n\u001b[0;32m    828\u001b[0m         group \u001b[39m=\u001b[39m \u001b[39mNone\u001b[39;00m\n\u001b[0;32m    829\u001b[0m     \u001b[39melse\u001b[39;00m:\n\u001b[1;32m--> 830\u001b[0m         \u001b[39mraise\u001b[39;00m source\u001b[39m.\u001b[39merror(\u001b[39m\"\u001b[39m\u001b[39munknown extension ?\u001b[39m\u001b[39m\"\u001b[39m \u001b[39m+\u001b[39m char,\n\u001b[0;32m    831\u001b[0m                            \u001b[39mlen\u001b[39m(char) \u001b[39m+\u001b[39m \u001b[39m1\u001b[39m)\n\u001b[0;32m    833\u001b[0m \u001b[39m# parse group contents\u001b[39;00m\n\u001b[0;32m    834\u001b[0m \u001b[39mif\u001b[39;00m group \u001b[39mis\u001b[39;00m \u001b[39mnot\u001b[39;00m \u001b[39mNone\u001b[39;00m:\n",
      "\u001b[1;31merror\u001b[0m: unknown extension ?. at position 1"
     ]
    }
   ],
   "source": [
    "import os\n",
    "import re\n",
    "import requests\n",
    "from bs4 import BeautifulSoup\n",
    "\n",
    "# Set a directory to save the downloaded books\n",
    "save_dir = 'data/books/'\n",
    "os.makedirs(save_dir, exist_ok=True)\n",
    "\n",
    "# Fetch the top 100 books list from Project Gutenberg\n",
    "url = 'https://www.gutenberg.org/browse/scores/top'\n",
    "response = requests.get(url)\n",
    "\n",
    "# Parse the response HTML content\n",
    "soup = BeautifulSoup(response.text, 'html.parser')\n",
    "\n",
    "# Find the top 100 books section in the HTML\n",
    "ol = soup.find_all('ol')[0]\n",
    "\n",
    "# Extract the book links\n",
    "book_links = ol.find_all('a')\n",
    "\n",
    "def sanitize_title(title):\n",
    "    return re.sub(r'[\\\\/:*?\"<>|]', '_', title)\n",
    "\n",
    "# Function to find the TXT file URL from the book's HTML page\n",
    "def find_txt_file_url(book_page_url):\n",
    "    book_page_url = book_page_url.replace('ebooks','files')\n",
    "    book_page_response = requests.get(book_page_url)\n",
    "    book_page_soup = BeautifulSoup(book_page_response.text, 'html.parser')\n",
    "    file_links = book_page_soup.find_all('a', href=re.compile(r'\\d+-0\\.txt'))\n",
    "\n",
    "    if file_links:\n",
    "        return f'{book_page_url}/{file_links[0][\"href\"]}'\n",
    "    return None\n",
    "\n",
    "# Iterate through the book links and download the books\n",
    "for idx, book_link in enumerate(book_links):\n",
    "    book_page_url = 'https://www.gutenberg.org' + book_link['href']\n",
    "    book_title = sanitize_title(book_link.text.strip())\n",
    "\n",
    "    print(f'Downloading {idx + 1}/100: {book_title}')\n",
    "\n",
    "    txt_file_url = find_txt_file_url(book_page_url)\n",
    "\n",
    "    if txt_file_url:\n",
    "        try:\n",
    "            # Fetch the book content\n",
    "            book_response = requests.get(txt_file_url)\n",
    "            book_response.raise_for_status()\n",
    "\n",
    "            # Save the book to a file\n",
    "            with open(os.path.join(save_dir, f'{idx + 1:03d}_{book_title}.txt'), 'w', encoding='utf-8') as f:\n",
    "                f.write(book_response.text)\n",
    "\n",
    "        except requests.exceptions.RequestException as e:\n",
    "            print(f'Error downloading {book_title}: {e}')\n",
    "    else:\n",
    "        print(f'Error: TXT file URL not found for {book_title}')\n",
    "\n",
    "print('Finished downloading the top 100 books from Project Gutenberg.')"
   ]
  },
  {
   "cell_type": "code",
   "execution_count": null,
   "metadata": {},
   "outputs": [],
   "source": []
  }
 ],
 "metadata": {
  "kernelspec": {
   "display_name": "torch_gpu",
   "language": "python",
   "name": "python3"
  },
  "language_info": {
   "codemirror_mode": {
    "name": "ipython",
    "version": 3
   },
   "file_extension": ".py",
   "mimetype": "text/x-python",
   "name": "python",
   "nbconvert_exporter": "python",
   "pygments_lexer": "ipython3",
   "version": "3.10.9"
  },
  "orig_nbformat": 4
 },
 "nbformat": 4,
 "nbformat_minor": 2
}
