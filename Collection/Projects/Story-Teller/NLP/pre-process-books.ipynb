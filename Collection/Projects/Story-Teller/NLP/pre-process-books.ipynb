{
 "cells": [
  {
   "cell_type": "code",
   "execution_count": 3,
   "metadata": {},
   "outputs": [],
   "source": [
    "import os\n",
    "import re"
   ]
  },
  {
   "cell_type": "code",
   "execution_count": 4,
   "metadata": {},
   "outputs": [],
   "source": [
    "def preprocess_books(folder_path, output_file):\n",
    "    book_files = [f for f in os.listdir(folder_path) if f.endswith('.txt')]\n",
    "    processed_texts = []\n",
    "\n",
    "    for book_file in book_files:\n",
    "        with open(os.path.join(folder_path, book_file), 'r', encoding='utf-8') as file:\n",
    "            content = file.read()\n",
    "\n",
    "            content = re.split(r'\\*\\*\\* START OF THE PROJECT GUTENBERG EBOOK .+ \\*\\*\\*', content)[-1]\n",
    "            content = re.split(r'\\*\\*\\* END OF THE PROJECT GUTENBERG EBOOK .+ \\*\\*\\*', content)[0]\n",
    "\n",
    "            content = re.sub(r'[^a-zA-Z\\s]', '', content)\n",
    "\n",
    "            content = re.sub(r'\\s+', ' ', content).strip()\n",
    "\n",
    "            processed_texts.append(content)\n",
    "\n",
    "            processed_texts.append(\"\\n\\n\")\n",
    "\n",
    "    with open(output_file, 'w', encoding='utf-8') as outfile:\n",
    "        outfile.write(' '.join(processed_texts))\n"
   ]
  },
  {
   "cell_type": "code",
   "execution_count": 5,
   "metadata": {},
   "outputs": [],
   "source": [
    "preprocess_books(\"data/books\", \"processed_books.txt\")"
   ]
  },
  {
   "cell_type": "code",
   "execution_count": null,
   "metadata": {},
   "outputs": [],
   "source": []
  }
 ],
 "metadata": {
  "kernelspec": {
   "display_name": "torch_gpu",
   "language": "python",
   "name": "python3"
  },
  "language_info": {
   "codemirror_mode": {
    "name": "ipython",
    "version": 3
   },
   "file_extension": ".py",
   "mimetype": "text/x-python",
   "name": "python",
   "nbconvert_exporter": "python",
   "pygments_lexer": "ipython3",
   "version": "3.10.9"
  },
  "orig_nbformat": 4
 },
 "nbformat": 4,
 "nbformat_minor": 2
}
