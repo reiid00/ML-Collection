{
 "cells": [
  {
   "attachments": {},
   "cell_type": "markdown",
   "metadata": {},
   "source": [
    "## Imports"
   ]
  },
  {
   "cell_type": "code",
   "execution_count": 12,
   "metadata": {},
   "outputs": [],
   "source": [
    "import torch\n",
    "import torch.nn as nn\n",
    "from torchsummary import summary\n",
    "from transformer_v2 import Transformer\n",
    "from utils.constants import *\n",
    "from utils.function_utils import *"
   ]
  },
  {
   "attachments": {},
   "cell_type": "markdown",
   "metadata": {},
   "source": [
    "### Init Tansformer"
   ]
  },
  {
   "cell_type": "code",
   "execution_count": 2,
   "metadata": {},
   "outputs": [],
   "source": [
    "src_vocab_size = 1024\n",
    "tgt_vocab_size = 1024\n",
    "\n",
    "transformer = Transformer(src_vocab_size, \n",
    "                          tgt_vocab_size, \n",
    "                          MODEL_DIM, \n",
    "                          MODEL_N_HEADS, \n",
    "                          MODEL_N_LAYERS, \n",
    "                          MODEL_FF, \n",
    "                          dropout=MODEL_DROPOUT, \n",
    "                          max_len=MODEL_MAX_SEQ_LEN)"
   ]
  },
  {
   "attachments": {},
   "cell_type": "markdown",
   "metadata": {},
   "source": [
    "### Model Summary"
   ]
  },
  {
   "cell_type": "code",
   "execution_count": 3,
   "metadata": {},
   "outputs": [],
   "source": [
    "def print_model_summary(model, input_size):\n",
    "    print(summary(model, input_size))"
   ]
  },
  {
   "cell_type": "code",
   "execution_count": 23,
   "metadata": {},
   "outputs": [],
   "source": [
    "\n",
    "class TransformerWrapper(nn.Module):\n",
    "    def __init__(self, transformer_model):\n",
    "        super(TransformerWrapper, self).__init__()\n",
    "        self.transformer_model = transformer_model\n",
    "\n",
    "    def forward(self, x):\n",
    "\n",
    "        batch_size = x.size(0)\n",
    "        seq_length = x.size(1)\n",
    "        # Split the input tensor into src and tgt, and pad them to the original length\n",
    "        print(x.shape)\n",
    "        src = x[:, :seq_length//2]\n",
    "        tgt = x[:, seq_length//2:seq_length]\n",
    "        print(src.shape)\n",
    "        src = torch.cat((src, torch.zeros(batch_size, seq_length//2, dtype=src.dtype, device=src.device)), dim=1)\n",
    "        tgt = torch.cat((tgt, torch.zeros(batch_size, seq_length//2, dtype=tgt.dtype, device=tgt.device)), dim=1)\n",
    "\n",
    "        pad_idx = 0\n",
    "\n",
    "        # Generate masks and pass the tensors to the transformer_model's forward() method\n",
    "        src_mask, tgt_mask = generate_masks(src, tgt, pad_idx)\n",
    "        output = self.transformer_model(src, tgt, src_mask, tgt_mask)\n",
    "        return output\n",
    "\n"
   ]
  },
  {
   "cell_type": "code",
   "execution_count": 24,
   "metadata": {},
   "outputs": [
    {
     "name": "stdout",
     "output_type": "stream",
     "text": [
      "2\n",
      "32\n",
      "torch.Size([2, 32, 256])\n",
      "torch.Size([2, 16, 256])\n"
     ]
    },
    {
     "ename": "RuntimeError",
     "evalue": "Tensors must have same number of dimensions: got 3 and 2",
     "output_type": "error",
     "traceback": [
      "\u001b[1;31m---------------------------------------------------------------------------\u001b[0m",
      "\u001b[1;31mRuntimeError\u001b[0m                              Traceback (most recent call last)",
      "Cell \u001b[1;32mIn[24], line 3\u001b[0m\n\u001b[0;32m      1\u001b[0m wrapped_transformer \u001b[39m=\u001b[39m TransformerWrapper(transformer)\n\u001b[0;32m      2\u001b[0m input_shape \u001b[39m=\u001b[39m (\u001b[39m32\u001b[39m, \u001b[39m256\u001b[39m)\n\u001b[1;32m----> 3\u001b[0m print_model_summary(wrapped_transformer, input_shape)\n",
      "Cell \u001b[1;32mIn[3], line 2\u001b[0m, in \u001b[0;36mprint_model_summary\u001b[1;34m(model, input_size)\u001b[0m\n\u001b[0;32m      1\u001b[0m \u001b[39mdef\u001b[39;00m \u001b[39mprint_model_summary\u001b[39m(model, input_size):\n\u001b[1;32m----> 2\u001b[0m     \u001b[39mprint\u001b[39m(summary(model, input_size))\n",
      "File \u001b[1;32mc:\\Users\\reidp\\miniconda3\\envs\\torch_gpu\\lib\\site-packages\\torchsummary\\torchsummary.py:72\u001b[0m, in \u001b[0;36msummary\u001b[1;34m(model, input_size, batch_size, device)\u001b[0m\n\u001b[0;32m     68\u001b[0m model\u001b[39m.\u001b[39mapply(register_hook)\n\u001b[0;32m     70\u001b[0m \u001b[39m# make a forward pass\u001b[39;00m\n\u001b[0;32m     71\u001b[0m \u001b[39m# print(x.shape)\u001b[39;00m\n\u001b[1;32m---> 72\u001b[0m model(\u001b[39m*\u001b[39;49mx)\n\u001b[0;32m     74\u001b[0m \u001b[39m# remove these hooks\u001b[39;00m\n\u001b[0;32m     75\u001b[0m \u001b[39mfor\u001b[39;00m h \u001b[39min\u001b[39;00m hooks:\n",
      "File \u001b[1;32mc:\\Users\\reidp\\miniconda3\\envs\\torch_gpu\\lib\\site-packages\\torch\\nn\\modules\\module.py:1501\u001b[0m, in \u001b[0;36mModule._call_impl\u001b[1;34m(self, *args, **kwargs)\u001b[0m\n\u001b[0;32m   1496\u001b[0m \u001b[39m# If we don't have any hooks, we want to skip the rest of the logic in\u001b[39;00m\n\u001b[0;32m   1497\u001b[0m \u001b[39m# this function, and just call forward.\u001b[39;00m\n\u001b[0;32m   1498\u001b[0m \u001b[39mif\u001b[39;00m \u001b[39mnot\u001b[39;00m (\u001b[39mself\u001b[39m\u001b[39m.\u001b[39m_backward_hooks \u001b[39mor\u001b[39;00m \u001b[39mself\u001b[39m\u001b[39m.\u001b[39m_backward_pre_hooks \u001b[39mor\u001b[39;00m \u001b[39mself\u001b[39m\u001b[39m.\u001b[39m_forward_hooks \u001b[39mor\u001b[39;00m \u001b[39mself\u001b[39m\u001b[39m.\u001b[39m_forward_pre_hooks\n\u001b[0;32m   1499\u001b[0m         \u001b[39mor\u001b[39;00m _global_backward_pre_hooks \u001b[39mor\u001b[39;00m _global_backward_hooks\n\u001b[0;32m   1500\u001b[0m         \u001b[39mor\u001b[39;00m _global_forward_hooks \u001b[39mor\u001b[39;00m _global_forward_pre_hooks):\n\u001b[1;32m-> 1501\u001b[0m     \u001b[39mreturn\u001b[39;00m forward_call(\u001b[39m*\u001b[39margs, \u001b[39m*\u001b[39m\u001b[39m*\u001b[39mkwargs)\n\u001b[0;32m   1502\u001b[0m \u001b[39m# Do not call functions when jit is used\u001b[39;00m\n\u001b[0;32m   1503\u001b[0m full_backward_hooks, non_full_backward_hooks \u001b[39m=\u001b[39m [], []\n",
      "Cell \u001b[1;32mIn[23], line 19\u001b[0m, in \u001b[0;36mTransformerWrapper.forward\u001b[1;34m(self, x)\u001b[0m\n\u001b[0;32m     17\u001b[0m tgt \u001b[39m=\u001b[39m x[:, seq_length\u001b[39m/\u001b[39m\u001b[39m/\u001b[39m\u001b[39m2\u001b[39m:seq_length]\n\u001b[0;32m     18\u001b[0m \u001b[39mprint\u001b[39m(src\u001b[39m.\u001b[39mshape)\n\u001b[1;32m---> 19\u001b[0m src \u001b[39m=\u001b[39m torch\u001b[39m.\u001b[39;49mcat((src, torch\u001b[39m.\u001b[39;49mzeros(batch_size, seq_length\u001b[39m/\u001b[39;49m\u001b[39m/\u001b[39;49m\u001b[39m2\u001b[39;49m, dtype\u001b[39m=\u001b[39;49msrc\u001b[39m.\u001b[39;49mdtype, device\u001b[39m=\u001b[39;49msrc\u001b[39m.\u001b[39;49mdevice)), dim\u001b[39m=\u001b[39;49m\u001b[39m1\u001b[39;49m)\n\u001b[0;32m     20\u001b[0m tgt \u001b[39m=\u001b[39m torch\u001b[39m.\u001b[39mcat((tgt, torch\u001b[39m.\u001b[39mzeros(batch_size, seq_length\u001b[39m/\u001b[39m\u001b[39m/\u001b[39m\u001b[39m2\u001b[39m, dtype\u001b[39m=\u001b[39mtgt\u001b[39m.\u001b[39mdtype, device\u001b[39m=\u001b[39mtgt\u001b[39m.\u001b[39mdevice)), dim\u001b[39m=\u001b[39m\u001b[39m1\u001b[39m)\n\u001b[0;32m     22\u001b[0m pad_idx \u001b[39m=\u001b[39m \u001b[39m0\u001b[39m\n",
      "\u001b[1;31mRuntimeError\u001b[0m: Tensors must have same number of dimensions: got 3 and 2"
     ]
    }
   ],
   "source": [
    "wrapped_transformer = TransformerWrapper(transformer)\n",
    "input_shape = (32, 256)\n",
    "print_model_summary(wrapped_transformer, input_shape)"
   ]
  },
  {
   "cell_type": "code",
   "execution_count": null,
   "metadata": {},
   "outputs": [],
   "source": []
  }
 ],
 "metadata": {
  "kernelspec": {
   "display_name": "torch_gpu",
   "language": "python",
   "name": "python3"
  },
  "language_info": {
   "codemirror_mode": {
    "name": "ipython",
    "version": 3
   },
   "file_extension": ".py",
   "mimetype": "text/x-python",
   "name": "python",
   "nbconvert_exporter": "python",
   "pygments_lexer": "ipython3",
   "version": "3.10.9"
  },
  "orig_nbformat": 4
 },
 "nbformat": 4,
 "nbformat_minor": 2
}
